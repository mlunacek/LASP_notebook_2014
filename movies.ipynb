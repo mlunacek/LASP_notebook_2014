{
 "metadata": {
  "name": ""
 },
 "nbformat": 3,
 "nbformat_minor": 0,
 "worksheets": [
  {
   "cells": [
    {
     "cell_type": "markdown",
     "metadata": {},
     "source": [
      "## Movies for v-day"
     ]
    },
    {
     "cell_type": "code",
     "collapsed": false,
     "input": [
      "import os\n",
      "data_path = os.path.join('data','movies.csv')\n",
      "os.path.exists(data_path)"
     ],
     "language": "python",
     "metadata": {},
     "outputs": [
      {
       "metadata": {},
       "output_type": "pyout",
       "prompt_number": 2,
       "text": [
        "True"
       ]
      }
     ],
     "prompt_number": 2
    },
    {
     "cell_type": "code",
     "collapsed": false,
     "input": [
      "ls data"
     ],
     "language": "python",
     "metadata": {},
     "outputs": [
      {
       "output_type": "stream",
       "stream": "stdout",
       "text": [
        "movies.csv\r\n"
       ]
      }
     ],
     "prompt_number": 3
    },
    {
     "cell_type": "code",
     "collapsed": false,
     "input": [
      "import pandas as pd\n",
      "\n",
      "df = pd.read_csv(data_path)\n",
      "print df.head()"
     ],
     "language": "python",
     "metadata": {},
     "outputs": [
      {
       "output_type": "stream",
       "stream": "stdout",
       "text": [
        "   movie_id  rating gender  age    zip                                   title\n",
        "0      1193       5      F    1  48067  One Flew Over the Cuckoo's Nest (1975)\n",
        "1      1193       5      M   56  70072  One Flew Over the Cuckoo's Nest (1975)\n",
        "2      1193       4      M   25  32793  One Flew Over the Cuckoo's Nest (1975)\n",
        "3      1193       4      M   25  22903  One Flew Over the Cuckoo's Nest (1975)\n",
        "4      1193       5      M   50  95350  One Flew Over the Cuckoo's Nest (1975)\n"
       ]
      }
     ],
     "prompt_number": 5
    },
    {
     "cell_type": "markdown",
     "metadata": {},
     "source": [
      "How many movies do I have?"
     ]
    },
    {
     "cell_type": "code",
     "collapsed": false,
     "input": [
      "len(set(df.movie_id))"
     ],
     "language": "python",
     "metadata": {},
     "outputs": [
      {
       "metadata": {},
       "output_type": "pyout",
       "prompt_number": 6,
       "text": [
        "3706"
       ]
      }
     ],
     "prompt_number": 6
    },
    {
     "cell_type": "markdown",
     "metadata": {},
     "source": [
      "What is the highest rated movie?"
     ]
    },
    {
     "cell_type": "code",
     "collapsed": false,
     "input": [
      "tmp = df[['title','rating']]\n",
      "mean_rating = tmp.groupby('title').mean()\n",
      "print mean_rating.head()"
     ],
     "language": "python",
     "metadata": {},
     "outputs": [
      {
       "output_type": "stream",
       "stream": "stdout",
       "text": [
        "                                 rating\n",
        "title                                  \n",
        "$1,000,000 Duck (1971)         3.027027\n",
        "'Night Mother (1986)           3.371429\n",
        "'Til There Was You (1997)      2.692308\n",
        "'burbs, The (1989)             2.910891\n",
        "...And Justice for All (1979)  3.713568\n"
       ]
      }
     ],
     "prompt_number": 8
    },
    {
     "cell_type": "code",
     "collapsed": false,
     "input": [
      "print mean_rating.sort('rating', ascending=False).head(10)"
     ],
     "language": "python",
     "metadata": {},
     "outputs": [
      {
       "output_type": "stream",
       "stream": "stdout",
       "text": [
        "                                           rating\n",
        "title                                            \n",
        "Gate of Heavenly Peace, The (1995)              5\n",
        "Lured (1947)                                    5\n",
        "Ulysses (Ulisse) (1954)                         5\n",
        "Smashing Time (1967)                            5\n",
        "Follow the Bitch (1998)                         5\n",
        "Song of Freedom (1936)                          5\n",
        "Bittersweet Motel (2000)                        5\n",
        "Baby, The (1973)                                5\n",
        "One Little Indian (1973)                        5\n",
        "Schlafes Bruder (Brother of Sleep) (1995)       5\n"
       ]
      }
     ],
     "prompt_number": 10
    },
    {
     "cell_type": "code",
     "collapsed": false,
     "input": [
      "mean_rating = tmp.groupby('title').agg(['mean','count'])\n",
      "print mean_rating['rating'].sort('mean').tail()"
     ],
     "language": "python",
     "metadata": {},
     "outputs": [
      {
       "output_type": "stream",
       "stream": "stdout",
       "text": [
        "                                    mean  count\n",
        "title                                          \n",
        "Follow the Bitch (1998)                5      1\n",
        "Smashing Time (1967)                   5      2\n",
        "Ulysses (Ulisse) (1954)                5      1\n",
        "Lured (1947)                           5      1\n",
        "Gate of Heavenly Peace, The (1995)     5      3\n"
       ]
      }
     ],
     "prompt_number": 18
    },
    {
     "cell_type": "code",
     "collapsed": false,
     "input": [
      "hist(mean_rating['rating']['count'], bins=20)\n",
      "show()"
     ],
     "language": "python",
     "metadata": {},
     "outputs": [
      {
       "metadata": {},
       "output_type": "display_data",
       "png": "[encoded data removed]",
       "text": [
        "<matplotlib.figure.Figure at 0x107b4f550>"
       ]
      }
     ],
     "prompt_number": 20
    },
    {
     "cell_type": "markdown",
     "metadata": {},
     "source": [
      "Pick out the best"
     ]
    },
    {
     "cell_type": "code",
     "collapsed": false,
     "input": [
      "mask = mean_rating['rating']['count'] > 1000\n",
      "#print mask.head()\n",
      "print mean_rating[mask]['rating'].sort('mean', ascending=False).head()"
     ],
     "language": "python",
     "metadata": {},
     "outputs": [
      {
       "output_type": "stream",
       "stream": "stdout",
       "text": [
        "                                      mean  count\n",
        "title                                            \n",
        "Shawshank Redemption, The (1994)  4.554558   2227\n",
        "Godfather, The (1972)             4.524966   2223\n",
        "Usual Suspects, The (1995)        4.517106   1783\n",
        "Schindler's List (1993)           4.510417   2304\n",
        "Raiders of the Lost Ark (1981)    4.477725   2514\n"
       ]
      }
     ],
     "prompt_number": 26
    },
    {
     "cell_type": "markdown",
     "metadata": {},
     "source": [
      "Best for date night?"
     ]
    },
    {
     "cell_type": "code",
     "collapsed": false,
     "input": [
      "mean_ratings = pd.pivot_table(df, 'rating', rows='title', cols='gender', aggfunc='mean')\n",
      "print mean_ratings.head()"
     ],
     "language": "python",
     "metadata": {},
     "outputs": [
      {
       "output_type": "stream",
       "stream": "stdout",
       "text": [
        "gender                                F         M\n",
        "title                                            \n",
        "$1,000,000 Duck (1971)         3.375000  2.761905\n",
        "'Night Mother (1986)           3.388889  3.352941\n",
        "'Til There Was You (1997)      2.675676  2.733333\n",
        "'burbs, The (1989)             2.793478  2.962085\n",
        "...And Justice for All (1979)  3.828571  3.689024\n"
       ]
      }
     ],
     "prompt_number": 30
    },
    {
     "cell_type": "code",
     "collapsed": false,
     "input": [
      "top_mr = mean_ratings.ix[mask]"
     ],
     "language": "python",
     "metadata": {},
     "outputs": [],
     "prompt_number": 31
    },
    {
     "cell_type": "markdown",
     "metadata": {},
     "source": [
      "What are the top female movies?"
     ]
    },
    {
     "cell_type": "code",
     "collapsed": false,
     "input": [
      "print top_mr.sort('F', ascending=False).head()"
     ],
     "language": "python",
     "metadata": {},
     "outputs": [
      {
       "output_type": "stream",
       "stream": "stdout",
       "text": [
        "gender                                   F         M\n",
        "title                                               \n",
        "Schindler's List (1993)           4.562602  4.491415\n",
        "Shawshank Redemption, The (1994)  4.539075  4.560625\n",
        "Usual Suspects, The (1995)        4.513317  4.518248\n",
        "Rear Window (1954)                4.484536  4.472991\n",
        "Sixth Sense, The (1999)           4.477410  4.379944\n"
       ]
      }
     ],
     "prompt_number": 33
    },
    {
     "cell_type": "markdown",
     "metadata": {},
     "source": [
      "What about M?"
     ]
    },
    {
     "cell_type": "code",
     "collapsed": false,
     "input": [
      "print top_mr.sort('M', ascending=False).head()"
     ],
     "language": "python",
     "metadata": {},
     "outputs": [
      {
       "output_type": "stream",
       "stream": "stdout",
       "text": [
        "gender                                            F         M\n",
        "title                                                        \n",
        "Godfather, The (1972)                      4.314700  4.583333\n",
        "Shawshank Redemption, The (1994)           4.539075  4.560625\n",
        "Raiders of the Lost Ark (1981)             4.332168  4.520597\n",
        "Usual Suspects, The (1995)                 4.513317  4.518248\n",
        "Star Wars: Episode IV - A New Hope (1977)  4.302937  4.495307\n"
       ]
      }
     ],
     "prompt_number": 34
    },
    {
     "cell_type": "markdown",
     "metadata": {},
     "source": [
      "Best movie for v-day?"
     ]
    },
    {
     "cell_type": "code",
     "collapsed": false,
     "input": [
      "top_mr['diff'] = abs(top_mr['M'] - top_mr['F'])\n",
      "print top_mr.sort('diff', ascending=True).head(10)"
     ],
     "language": "python",
     "metadata": {},
     "outputs": [
      {
       "output_type": "stream",
       "stream": "stdout",
       "text": [
        "gender                                              F         M      diff\n",
        "title                                                                    \n",
        "Jerry Maguire (1996)                         3.758315  3.759424  0.001109\n",
        "Indiana Jones and the Temple of Doom (1984)  3.674312  3.676568  0.002256\n",
        "Good Will Hunting (1997)                     4.174672  4.177064  0.002392\n",
        "Fugitive, The (1993)                         4.100457  4.104046  0.003590\n",
        "Batman Returns (1992)                        2.980100  2.975904  0.004196\n",
        "Usual Suspects, The (1995)                   4.513317  4.518248  0.004931\n",
        "Green Mile, The (1999)                       4.159722  4.153105  0.006617\n",
        "Boogie Nights (1997)                         3.763838  3.771295  0.007458\n",
        "Chicken Run (2000)                           3.885559  3.877339  0.008220\n",
        "Blair Witch Project, The (1999)              3.038732  3.029381  0.009351\n"
       ]
      }
     ],
     "prompt_number": 37
    },
    {
     "cell_type": "markdown",
     "metadata": {},
     "source": [
      "Worst?"
     ]
    },
    {
     "cell_type": "code",
     "collapsed": false,
     "input": [
      "print top_mr.sort('diff', ascending=False).head(10)"
     ],
     "language": "python",
     "metadata": {},
     "outputs": [
      {
       "output_type": "stream",
       "stream": "stdout",
       "text": [
        "gender                                              F         M      diff\n",
        "title                                                                    \n",
        "Animal House (1978)                          3.628906  4.167192  0.538286\n",
        "Rocky Horror Picture Show, The (1975)        3.673016  3.160131  0.512885\n",
        "Mary Poppins (1964)                          4.197740  3.730594  0.467147\n",
        "Reservoir Dogs (1992)                        3.769231  4.213873  0.444642\n",
        "Gone with the Wind (1939)                    4.269841  3.829371  0.440471\n",
        "South Park: Bigger, Longer and Uncut (1999)  3.422481  3.846686  0.424206\n",
        "Airplane! (1980)                             3.656566  4.064419  0.407854\n",
        "Predator (1987)                              3.299401  3.706195  0.406793\n",
        "Godfather: Part II, The (1974)               4.040936  4.437778  0.396842\n",
        "Clockwork Orange, A (1971)                   3.757009  4.145813  0.388803\n"
       ]
      }
     ],
     "prompt_number": 38
    },
    {
     "cell_type": "code",
     "collapsed": false,
     "input": [],
     "language": "python",
     "metadata": {},
     "outputs": []
    }
   ],
   "metadata": {}
  }
 ]
}