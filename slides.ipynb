{
 "metadata": {
  "name": ""
 },
 "nbformat": 3,
 "nbformat_minor": 0,
 "worksheets": [
  {
   "cells": [
    {
     "cell_type": "markdown",
     "metadata": {
      "slideshow": {
       "slide_type": "slide"
      }
     },
     "source": [
      "#IPython Notebook\n",
      "###Interactive web-based computing, data analysis, and documentation\n",
      "<br>\n",
      "Monte Lunacek\n",
      "<br>\n",
      "Research Computing, UCB\n",
      "\n"
     ]
    },
    {
     "cell_type": "markdown",
     "metadata": {
      "slideshow": {
       "slide_type": "slide"
      }
     },
     "source": [
      "##Outline\n",
      "\n",
      "- What is the `IPython` Notebook?\n",
      "- Quick example\n",
      "- Top 10 features\n",
      "\n"
     ]
    },
    {
     "cell_type": "markdown",
     "metadata": {
      "slideshow": {
       "slide_type": "slide"
      }
     },
     "source": [
      "## What is the IPython Notebook?\n",
      "\n",
      "Web-based interactive `Python` programming environment.\n",
      "\n",
      "- One document for code and output\n",
      "- Run locally and remote\n",
      "- Document process\n",
      "- Share results"
     ]
    },
    {
     "cell_type": "markdown",
     "metadata": {
      "slideshow": {
       "slide_type": "slide"
      }
     },
     "source": [
      "### **Does not separate code and output**.\n",
      "\n",
      "- Data structure ouput\n",
      "- Inline plots\n",
      "- [Literate programming](http://en.wikipedia.org/wiki/Literate_programming)\n",
      "    - Conversation, telling a data story\n",
      "\n",
      "\n",
      "- Great for *iterative* programming.\n",
      "    - Data analysis\n",
      "    - Quick scripts\n",
      "    - Prototyping"
     ]
    },
    {
     "cell_type": "markdown",
     "metadata": {
      "slideshow": {
       "slide_type": "slide"
      }
     },
     "source": [
      "### Local and Remote\n",
      "\n",
      "- Run locally\n",
      "- Connect to the cloud (e.g [AWS](http://aws.amazon.com/))\n",
      "- Connect to supercomputer (e.g. [JANUS](https://www.rc.colorado.edu/services/compute/janus))\n",
      "- Add compute power:\n",
      "    - [mpi4py](http://mpi4py.scipy.org/)\n",
      "    - [IPython Parallel](http://ipython.org/ipython-doc/dev/parallel/)\n",
      "    - [spark](http://spark.incubator.apache.org/) MapReduce\n",
      "    - [Numbapro](http://docs.continuum.io/numbapro/) GPU\n",
      "    - ...\n",
      "    \n"
     ]
    },
    {
     "cell_type": "markdown",
     "metadata": {
      "slideshow": {
       "slide_type": "slide"
      }
     },
     "source": [
      "### Documentation\n",
      "\n",
      "- Plain text, `markdown`, `HTML`\n",
      "- Equations with Latex\n",
      "- Embeded graphics\n",
      "    - `matplotlib`\n",
      "    - HTML5 technologies (e.g. images, movies, D3.js)\n",
      "    \n",
      "### Sharing\n",
      "\n",
      "- [nbviewer.ipython.org](http://nbviewer.ipython.org/)\n",
      "- Create HTML **pages** and **slides**\n",
      "- Latex files\n",
      "- PDF documents\n",
      "- Regular `*.py` files"
     ]
    },
    {
     "cell_type": "markdown",
     "metadata": {
      "slideshow": {
       "slide_type": "slide"
      }
     },
     "source": [
      "### It's just a `json` file"
     ]
    },
    {
     "cell_type": "code",
     "collapsed": false,
     "input": [
      "with open('slides.ipynb','r') as infile:\n",
      "    tmp = infile.read()\n",
      "    inx = tmp.find(\"It's just a `json` file\")\n",
      "    print tmp[inx:inx+300]"
     ],
     "language": "python",
     "metadata": {},
     "outputs": [
      {
       "output_type": "stream",
       "stream": "stdout",
       "text": [
        "It's just a `json` file\"\n",
        "     ]\n",
        "    },\n",
        "    {\n",
        "     \"cell_type\": \"code\",\n",
        "     \"collapsed\": false,\n",
        "     \"input\": [\n",
        "      \"with open('slides.ipynb','r') as infile:\\n\",\n",
        "      \"    tmp = infile.read()\\n\",\n",
        "      \"    inx = tmp.find(\\\"json file\\\")\\n\",\n",
        "      \"    print tmp[inx:inx+300]\"\n",
        "     ],\n",
        "     \"languag\n"
       ]
      }
     ],
     "prompt_number": 12
    },
    {
     "cell_type": "markdown",
     "metadata": {
      "slideshow": {
       "slide_type": "slide"
      }
     },
     "source": [
      "##Perspective\n",
      "\n",
      "- Fernando Perez: [The IPython notebook: a historical retrospective](http://blog.fperez.org/2012/01/ipython-notebook-historical.html)\n",
      "    - 2001: `IPython` begins.\n",
      "    - 2005: Started working on an early prototype.\n",
      "    - 2011: First official release.\n",
      "- Similar to \n",
      "    - [Mathematica notebooks](http://www.wolfram.com/mathematica/)\n",
      "    - [Maple worksheets](http://www.maplesoft.com/products/Maple/)\n",
      "    - [Sage notebook](http://www.sagenb.org/)"
     ]
    },
    {
     "cell_type": "markdown",
     "metadata": {
      "slideshow": {
       "slide_type": "slide"
      }
     },
     "source": [
      "## Customizable \n",
      "\n",
      "- Custom `CSS`\n",
      "- Custom `javascript` libraries\n",
      "- Create your own output format.\n",
      "- Tools and workflow"
     ]
    },
    {
     "cell_type": "markdown",
     "metadata": {
      "slideshow": {
       "slide_type": "slide"
      }
     },
     "source": [
      "## Example\n",
      "\n",
      "- Think \"test drive\"\n",
      "- How does it feel?\n",
      "- Workflow\n",
      "    - `IPython notebook`\n",
      "    - [github](https://github.com/)\n",
      "    - Share with [nbviewer.ipython.org](http://nbviewer.ipython.org/)\n",
      "- Maybe...\n",
      "    - Create an HTML doc\n",
      "    - Create slides\n",
      "    - Create `*.py` file\n"
     ]
    },
    {
     "cell_type": "code",
     "collapsed": false,
     "input": [],
     "language": "python",
     "metadata": {},
     "outputs": []
    }
   ],
   "metadata": {}
  }
 ]
}