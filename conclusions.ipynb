{
 "metadata": {
  "name": ""
 },
 "nbformat": 3,
 "nbformat_minor": 0,
 "worksheets": [
  {
   "cells": [
    {
     "cell_type": "markdown",
     "metadata": {
      "slideshow": {
       "slide_type": "slide"
      }
     },
     "source": [
      "##Conclusions\n",
      "\n",
      "- Sometimes it's helpful to **keep everything together**.\n",
      "- Great tool:\n",
      "    - web-based computing\n",
      "    - data analysis\n",
      "    - documentation\n",
      "\n",
      "- Lots of conversion tools \n",
      "    - Accept the format\n",
      "    - Roll your own"
     ]
    }
   ],
   "metadata": {}
  }
 ]
}