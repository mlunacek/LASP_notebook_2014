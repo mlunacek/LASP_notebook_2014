{
 "metadata": {
  "name": ""
 },
 "nbformat": 3,
 "nbformat_minor": 0,
 "worksheets": [
  {
   "cells": [
    {
     "cell_type": "markdown",
     "metadata": {
      "slideshow": {
       "slide_type": "slide"
      }
     },
     "source": [
      "#`IPython` Notebook Features\n",
      "\n",
      "- Magic commands\n",
      "- Other languages\n",
      "- Shortcuts\n",
      "- Extensions\n",
      "- `nbconvert`\n",
      "- Remote systems\n",
      "\n"
     ]
    },
    {
     "cell_type": "markdown",
     "metadata": {
      "slideshow": {
       "slide_type": "slide"
      }
     },
     "source": [
      "\n",
      "## Magic commands\n",
      "\n",
      "- Built-in useful functions\n",
      "- `%` line commands\n",
      "- `%%` cell commands"
     ]
    },
    {
     "cell_type": "markdown",
     "metadata": {
      "slideshow": {
       "slide_type": "slide"
      }
     },
     "source": [
      "## Writing to a file"
     ]
    },
    {
     "cell_type": "code",
     "collapsed": false,
     "input": [
      "%%writefile example.py\n",
      "\n",
      "def hello():\n",
      "    print 'hello'"
     ],
     "language": "python",
     "metadata": {},
     "outputs": [
      {
       "output_type": "stream",
       "stream": "stdout",
       "text": [
        "Overwriting example.py\n"
       ]
      }
     ],
     "prompt_number": 26
    },
    {
     "cell_type": "markdown",
     "metadata": {
      "slideshow": {
       "slide_type": "slide"
      }
     },
     "source": [
      "## Load a python file into the workbook"
     ]
    },
    {
     "cell_type": "code",
     "collapsed": false,
     "input": [
      "%load example.py"
     ],
     "language": "python",
     "metadata": {},
     "outputs": [],
     "prompt_number": 27
    },
    {
     "cell_type": "code",
     "collapsed": false,
     "input": [
      "def hello():\n",
      "    print 'hello'"
     ],
     "language": "python",
     "metadata": {},
     "outputs": [],
     "prompt_number": 28
    },
    {
     "cell_type": "code",
     "collapsed": false,
     "input": [
      "hello()"
     ],
     "language": "python",
     "metadata": {},
     "outputs": [
      {
       "output_type": "stream",
       "stream": "stdout",
       "text": [
        "hello\n"
       ]
      }
     ],
     "prompt_number": 29
    },
    {
     "cell_type": "markdown",
     "metadata": {
      "slideshow": {
       "slide_type": "slide"
      }
     },
     "source": [
      "##`import` and `reload`\n",
      "\n",
      "Great for working with your own `modules`."
     ]
    },
    {
     "cell_type": "code",
     "collapsed": false,
     "input": [
      "import example as ex\n",
      "reload(ex)"
     ],
     "language": "python",
     "metadata": {},
     "outputs": [
      {
       "metadata": {},
       "output_type": "pyout",
       "prompt_number": 30,
       "text": [
        "<module 'example' from 'example.py'>"
       ]
      }
     ],
     "prompt_number": 30
    },
    {
     "cell_type": "code",
     "collapsed": false,
     "input": [
      "ex.hello()"
     ],
     "language": "python",
     "metadata": {},
     "outputs": [
      {
       "output_type": "stream",
       "stream": "stdout",
       "text": [
        "hello\n"
       ]
      }
     ],
     "prompt_number": 31
    },
    {
     "cell_type": "markdown",
     "metadata": {
      "slideshow": {
       "slide_type": "slide"
      }
     },
     "source": [
      "## Running a file\n",
      "\n",
      "Great for working with your own files."
     ]
    },
    {
     "cell_type": "code",
     "collapsed": false,
     "input": [
      "%%writefile example.py\n",
      "\n",
      "def get():\n",
      "    return 10\n",
      "    \n",
      "A = get()"
     ],
     "language": "python",
     "metadata": {},
     "outputs": [
      {
       "output_type": "stream",
       "stream": "stdout",
       "text": [
        "Overwriting example.py\n"
       ]
      }
     ],
     "prompt_number": 36
    },
    {
     "cell_type": "code",
     "collapsed": false,
     "input": [
      "%run example.py\n",
      "\n",
      "print A"
     ],
     "language": "python",
     "metadata": {},
     "outputs": [
      {
       "output_type": "stream",
       "stream": "stdout",
       "text": [
        "10\n"
       ]
      }
     ],
     "prompt_number": 40
    },
    {
     "cell_type": "markdown",
     "metadata": {},
     "source": [
      "**Notice** that `A` is now available."
     ]
    },
    {
     "cell_type": "markdown",
     "metadata": {
      "slideshow": {
       "slide_type": "slide"
      }
     },
     "source": [
      "## Other languages\n",
      "\n",
      "### `bash`"
     ]
    },
    {
     "cell_type": "code",
     "collapsed": false,
     "input": [
      "%%bash\n",
      "ls -l"
     ],
     "language": "python",
     "metadata": {},
     "outputs": [
      {
       "output_type": "stream",
       "stream": "stdout",
       "text": [
        "total 896\n",
        "-rw-r--r--  1 mlunacek  staff      90 Feb  7 08:32 README.md\n",
        "drwxr-xr-x  3 mlunacek  staff     102 Feb 10 09:49 data\n",
        "-rw-r--r--  1 mlunacek  staff      40 Feb 10 11:39 example.py\n",
        "-rw-r--r--  1 mlunacek  staff     209 Feb 10 11:37 example.pyc\n",
        "-rw-r--r--  1 mlunacek  staff   34785 Feb  7 15:01 features.ipynb\n",
        "-rw-r--r--  1 mlunacek  staff    3891 Feb 10 11:41 features_final.ipynb\n",
        "-rw-r--r--  1 mlunacek  staff      20 Feb  7 14:21 foo.py\n",
        "-rw-r--r--  1 mlunacek  staff   33073 Feb  7 13:48 ipython.ipynb\n",
        "-rw-r--r--  1 mlunacek  staff  212126 Feb 10 11:12 movies.html\n",
        "-rw-r--r--  1 mlunacek  staff    6760 Feb 10 11:12 movies.ipynb\n",
        "-rw-r--r--  1 mlunacek  staff  126798 Feb  7 13:48 multiprocessing.ipynb\n",
        "-rw-r--r--  1 mlunacek  staff    5322 Feb 10 08:23 notes.ipynb\n",
        "-rw-r--r--  1 mlunacek  staff    5868 Feb 10 09:34 slides.ipynb\n",
        "drwxr-xr-x  6 mlunacek  staff     204 Feb 10 11:17 tmp\n"
       ]
      }
     ],
     "prompt_number": 41
    },
    {
     "cell_type": "code",
     "collapsed": true,
     "input": [
      "files = !ls -l # But glob is a better way"
     ],
     "language": "python",
     "metadata": {},
     "outputs": [],
     "prompt_number": 123
    },
    {
     "cell_type": "markdown",
     "metadata": {
      "slideshow": {
       "slide_type": "slide"
      }
     },
     "source": [
      "### Keep it all together"
     ]
    },
    {
     "cell_type": "code",
     "collapsed": false,
     "input": [
      "%%writefile example.cpp\n",
      "#include <iostream>\n",
      "\n",
      "int main(){\n",
      "    std::cout << \"hello from c++\" << std::endl;\n",
      "}"
     ],
     "language": "python",
     "metadata": {},
     "outputs": [
      {
       "output_type": "stream",
       "stream": "stdout",
       "text": [
        "Overwriting example.cpp\n"
       ]
      }
     ],
     "prompt_number": 47
    },
    {
     "cell_type": "code",
     "collapsed": false,
     "input": [
      "%%bash\n",
      "g++ example.cpp -o example\n",
      "./example"
     ],
     "language": "python",
     "metadata": {},
     "outputs": [
      {
       "output_type": "stream",
       "stream": "stdout",
       "text": [
        "hello from c++\n"
       ]
      }
     ],
     "prompt_number": 48
    },
    {
     "cell_type": "markdown",
     "metadata": {
      "slideshow": {
       "slide_type": "slide"
      }
     },
     "source": [
      "###R\n",
      "\n",
      "- Requires [rpy2](http://rpy.sourceforge.net/)\n",
      "- More [examples](http://nbviewer.ipython.org/github/ipython/ipython/blob/3607712653c66d63e0d7f13f073bde8c0f209ba8/docs/examples/notebooks/rmagic_extension.ipynb)"
     ]
    },
    {
     "cell_type": "code",
     "collapsed": false,
     "input": [
      "%load_ext rmagic\n",
      "%reload_ext rmagic"
     ],
     "language": "python",
     "metadata": {},
     "outputs": [
      {
       "output_type": "stream",
       "stream": "stdout",
       "text": [
        "The rmagic extension is already loaded. To reload it, use:\n",
        "  %reload_ext rmagic\n"
       ]
      }
     ],
     "prompt_number": 114
    },
    {
     "cell_type": "code",
     "collapsed": false,
     "input": [
      "X = np.array([0,1,2,3,4])\n",
      "Y = np.array([3,5,4,6,7])\n",
      "\n",
      "%Rpush X Y\n",
      "res = %R lm(Y~X)$coef\n",
      "print res"
     ],
     "language": "python",
     "metadata": {},
     "outputs": [
      {
       "output_type": "stream",
       "stream": "stdout",
       "text": [
        "[ 3.2  0.9]\n"
       ]
      }
     ],
     "prompt_number": 115
    },
    {
     "cell_type": "code",
     "collapsed": false,
     "input": [
      "%%R\n",
      "\n",
      "library(ggplot2)\n",
      "p <- ggplot( mtcars, aes( x = wt, y = mpg, color = cyl)) + geom_point()\n",
      "print(p)"
     ],
     "language": "python",
     "metadata": {
      "slideshow": {
       "slide_type": "slide"
      }
     },
     "outputs": [
      {
       "metadata": {},
       "output_type": "display_data",
       "png": "[encoded data removed]"
      }
     ],
     "prompt_number": 116
    },
    {
     "cell_type": "markdown",
     "metadata": {
      "slideshow": {
       "slide_type": "slide"
      }
     },
     "source": [
      "## Help, Keyboard Shortcuts\n",
      "\n",
      "<img src=\"files/images/shortcuts.png\" style=\"height=300px;\">\n",
      "\n"
     ]
    },
    {
     "cell_type": "markdown",
     "metadata": {
      "slideshow": {
       "slide_type": "slide"
      }
     },
     "source": [
      "## Extensions\n",
      "\n",
      "- Consider a few [notebook extensions](https://github.com/ipython-contrib/IPython-notebook-extensions).\n",
      "    - slideshow\n",
      "    - code commenting\n",
      "    - code indentation\n",
      "    - [spell-checker](https://github.com/damianavila/mIPyex)\n"
     ]
    },
    {
     "cell_type": "markdown",
     "metadata": {
      "slideshow": {
       "slide_type": "slide"
      }
     },
     "source": [
      "##Share with `nbconvert`\n",
      "\n",
      "Create an HTML document.\n",
      "<code><pre>\n",
      "ipython nbconvert --to html slides.ipynb\n",
      "</pre></code>\n",
      "\n",
      "Create a Latex PDF\n",
      "<code><pre>\n",
      "ipython nbconvert --to latex --post pdf slides.ipynb\n",
      "</pre></code>\n",
      "\n",
      "Create `releal.js` slides\n",
      "<code><pre>\n",
      "ipython nbconvert --to slides slides.ipynb\n",
      "</pre></code>\n"
     ]
    },
    {
     "cell_type": "code",
     "collapsed": false,
     "input": [],
     "language": "python",
     "metadata": {},
     "outputs": []
    }
   ],
   "metadata": {}
  }
 ]
}